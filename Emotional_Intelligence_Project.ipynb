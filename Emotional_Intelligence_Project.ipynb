{
 "cells": [
  {
   "cell_type": "code",
   "execution_count": 1,
   "id": "69b81a07",
   "metadata": {},
   "outputs": [],
   "source": [
    "#EMOTIONAL INTELLIGENCE PROJECT \n",
    "#PREDICTING THE EMOTION OF THE USER AND RECOMMENDING THE MOVIE BASED ON SOME FEATURES\n",
    "#TEAM MEMBERS: Dinesh, Ravi,Madhu,AAhrith,Surendra,Deepak,Rohit"
   ]
  },
  {
   "cell_type": "code",
   "execution_count": 2,
   "id": "fd0857e2",
   "metadata": {},
   "outputs": [],
   "source": [
    "import cv2 \n",
    "import numpy as np \n",
    "import mediapipe as mp \n",
    "from keras.models import load_model \n",
    "def emotion():\n",
    "    model  = load_model(\"model.h5\")\n",
    "    label = np.load(\"labels.npy\")\n",
    "    holistic = mp.solutions.holistic\n",
    "    hands = mp.solutions.hands\n",
    "    holis = holistic.Holistic()\n",
    "    drawing = mp.solutions.drawing_utils\n",
    "\n",
    "    cap = cv2.VideoCapture(0)\n",
    "    x=[]\n",
    "    while True:\n",
    "        lst = []\n",
    "\n",
    "        _, frm = cap.read()\n",
    "\n",
    "        frm = cv2.flip(frm, 1)\n",
    "\n",
    "        res = holis.process(cv2.cvtColor(frm, cv2.COLOR_BGR2RGB))\n",
    "\n",
    "\n",
    "        if res.face_landmarks:\n",
    "            for i in res.face_landmarks.landmark:\n",
    "                lst.append(i.x - res.face_landmarks.landmark[1].x)\n",
    "                lst.append(i.y - res.face_landmarks.landmark[1].y)\n",
    "\n",
    "            if res.left_hand_landmarks:\n",
    "                for i in res.left_hand_landmarks.landmark:\n",
    "                    lst.append(i.x - res.left_hand_landmarks.landmark[8].x)\n",
    "                    lst.append(i.y - res.left_hand_landmarks.landmark[8].y)\n",
    "            else:\n",
    "                for i in range(42):\n",
    "                    lst.append(0.0)\n",
    "\n",
    "            if res.right_hand_landmarks:\n",
    "                for i in res.right_hand_landmarks.landmark:\n",
    "                    lst.append(i.x - res.right_hand_landmarks.landmark[8].x)\n",
    "                    lst.append(i.y - res.right_hand_landmarks.landmark[8].y)\n",
    "            else:\n",
    "                for i in range(42):\n",
    "                    lst.append(0.0)\n",
    "\n",
    "            lst = np.array(lst).reshape(1,-1)\n",
    "\n",
    "            pred = label[np.argmax(model.predict(lst))]\n",
    "            #print(pred)\n",
    "            x.append(pred)\n",
    "            cv2.putText(frm, pred, (50,50),cv2.FONT_ITALIC, 1, (255,0,0),2)\n",
    "\n",
    "\n",
    "        drawing.draw_landmarks(frm, res.face_landmarks, holistic.FACEMESH_CONTOURS)\n",
    "        drawing.draw_landmarks(frm, res.left_hand_landmarks, hands.HAND_CONNECTIONS)\n",
    "        drawing.draw_landmarks(frm, res.right_hand_landmarks, hands.HAND_CONNECTIONS)\n",
    "\n",
    "        cv2.imshow(\"window\", frm)\n",
    "        if cv2.waitKey(1) == 27:\n",
    "            cv2.destroyAllWindows()\n",
    "            cap.release()\n",
    "            break\n",
    "    return x"
   ]
  },
  {
   "cell_type": "code",
   "execution_count": 3,
   "id": "eaa8bec3",
   "metadata": {},
   "outputs": [
    {
     "name": "stdout",
     "output_type": "stream",
     "text": [
      "1/1 [==============================] - 0s 283ms/step\n",
      "1/1 [==============================] - 0s 32ms/step\n",
      "1/1 [==============================] - 0s 31ms/step\n",
      "1/1 [==============================] - 0s 48ms/step\n",
      "1/1 [==============================] - 0s 32ms/step\n",
      "1/1 [==============================] - 0s 32ms/step\n",
      "1/1 [==============================] - 0s 31ms/step\n",
      "1/1 [==============================] - 0s 41ms/step\n",
      "1/1 [==============================] - 0s 31ms/step\n",
      "1/1 [==============================] - 0s 31ms/step\n",
      "1/1 [==============================] - 0s 31ms/step\n",
      "1/1 [==============================] - 0s 47ms/step\n",
      "1/1 [==============================] - 0s 32ms/step\n",
      "1/1 [==============================] - 0s 31ms/step\n",
      "1/1 [==============================] - 0s 31ms/step\n",
      "1/1 [==============================] - 0s 31ms/step\n",
      "1/1 [==============================] - 0s 48ms/step\n",
      "1/1 [==============================] - 0s 31ms/step\n",
      "1/1 [==============================] - 0s 25ms/step\n",
      "1/1 [==============================] - 0s 31ms/step\n",
      "1/1 [==============================] - 0s 31ms/step\n",
      "1/1 [==============================] - 0s 31ms/step\n",
      "1/1 [==============================] - 0s 32ms/step\n",
      "1/1 [==============================] - 0s 32ms/step\n",
      "1/1 [==============================] - 0s 32ms/step\n",
      "1/1 [==============================] - 0s 31ms/step\n",
      "1/1 [==============================] - 0s 47ms/step\n",
      "1/1 [==============================] - 0s 47ms/step\n",
      "1/1 [==============================] - 0s 51ms/step\n",
      "1/1 [==============================] - 0s 32ms/step\n",
      "1/1 [==============================] - 0s 32ms/step\n",
      "1/1 [==============================] - 0s 47ms/step\n",
      "1/1 [==============================] - 0s 31ms/step\n",
      "1/1 [==============================] - 0s 31ms/step\n"
     ]
    }
   ],
   "source": [
    "emotion_set=emotion()"
   ]
  },
  {
   "cell_type": "code",
   "execution_count": 4,
   "id": "8c1ad2f2",
   "metadata": {},
   "outputs": [
    {
     "name": "stdout",
     "output_type": "stream",
     "text": [
      "['sad', 'sad', 'sad', 'sad', 'sad', 'sad', 'sad', 'sad', 'sad', 'sad', 'sad', 'sad', 'sad', 'sad', 'sad', 'sad', 'sad', 'sad', 'sad', 'sad', 'sad', 'sad', 'sad', 'sad', 'sad', 'sad', 'sad', 'sad', 'sad', 'sad', 'sad', 'sad', 'sad', 'sad']\n"
     ]
    }
   ],
   "source": [
    "print(emotion_set)"
   ]
  },
  {
   "cell_type": "code",
   "execution_count": 5,
   "id": "8fe1eb73",
   "metadata": {},
   "outputs": [
    {
     "data": {
      "text/plain": [
       "'sad'"
      ]
     },
     "execution_count": 5,
     "metadata": {},
     "output_type": "execute_result"
    }
   ],
   "source": [
    "# scrapping\n",
    "from bs4 import BeautifulSoup as SOUP\n",
    "import re\n",
    "import requests as HTTP\n",
    "import webbrowser\n",
    "import statistics as st\n",
    "final_output=st.mode(emotion_set)\n",
    "emotion=final_output\n",
    "emotion"
   ]
  },
  {
   "cell_type": "code",
   "execution_count": 6,
   "id": "fb87fb01",
   "metadata": {},
   "outputs": [
    {
     "name": "stdout",
     "output_type": "stream",
     "text": [
      "Select Language: \n",
      "1.Telegu-te \n",
      "2.Tamil-ta \n",
      "3.Hindi-hi \n",
      "4.Englih-en \n",
      "5.Malayalam-ml\n",
      "te\n"
     ]
    }
   ],
   "source": [
    "print(\"Select Language: \")\n",
    "print(\"1.Telegu-te \\n2.Tamil-ta \\n3.Hindi-hi \\n4.Englih-en \\n5.Malayalam-ml\")\n",
    "language=input()\n",
    "if(emotion==\"happy\"):\n",
    "    webbrowser.open(f\"https://www.imdb.com/search/title?genres=comedy&languages={language}&sort=user_rating\")\n",
    "elif(emotion==\"sad\"):\n",
    "    webbrowser.open(f\"https://www.imdb.com/search/title?genres=drama&languages={language}&sort=user_rating\")\n",
    "elif(emotion==\"susurprise\"):\n",
    "    webbrowser.open(f\"https://www.imdb.com/search/title?genres=mystery&languages={language}&sort=user_rating\")\n",
    "elif(emotion==\"rocrock\"):\n",
    "    webbrowser.open(f\"https://www.imdb.com/search/title?genres=thriller&languages={language}&sort=user_rating\")\n",
    "elif(emotion==\"angry\"):\n",
    "    webbrowser.open(f\"https://www.imdb.com/search/title?genres=romance&languages={language}&sort=user_rating\")\n",
    "elif(emotion==\"neutral\"):\n",
    "    webbrowser.open(f\"https://www.imdb.com/search/title?genres=westren&languages={language}&sort=user_rating\")"
   ]
  },
  {
   "cell_type": "code",
   "execution_count": null,
   "id": "33e6d62f",
   "metadata": {},
   "outputs": [],
   "source": []
  }
 ],
 "metadata": {
  "kernelspec": {
   "display_name": "Python 3 (ipykernel)",
   "language": "python",
   "name": "python3"
  },
  "language_info": {
   "codemirror_mode": {
    "name": "ipython",
    "version": 3
   },
   "file_extension": ".py",
   "mimetype": "text/x-python",
   "name": "python",
   "nbconvert_exporter": "python",
   "pygments_lexer": "ipython3",
   "version": "3.9.12"
  }
 },
 "nbformat": 4,
 "nbformat_minor": 5
}
